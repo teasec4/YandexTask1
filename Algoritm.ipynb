{
 "cells": [
  {
   "cell_type": "markdown",
   "id": "e0535899",
   "metadata": {},
   "source": [
    "### Импорт библиотек\n"
   ]
  },
  {
   "cell_type": "code",
   "execution_count": 2,
   "id": "bfd4deb9",
   "metadata": {},
   "outputs": [],
   "source": [
    "import pandas as pd"
   ]
  },
  {
   "cell_type": "markdown",
   "id": "e6c062db",
   "metadata": {},
   "source": [
    "### Открываем таблицу очищенную от лишних данных с уникальным адресом недвижимости"
   ]
  },
  {
   "cell_type": "code",
   "execution_count": 4,
   "id": "1c00e16d",
   "metadata": {},
   "outputs": [
    {
     "data": {
      "text/html": [
       "<div>\n",
       "<style scoped>\n",
       "    .dataframe tbody tr th:only-of-type {\n",
       "        vertical-align: middle;\n",
       "    }\n",
       "\n",
       "    .dataframe tbody tr th {\n",
       "        vertical-align: top;\n",
       "    }\n",
       "\n",
       "    .dataframe thead th {\n",
       "        text-align: right;\n",
       "    }\n",
       "</style>\n",
       "<table border=\"1\" class=\"dataframe\">\n",
       "  <thead>\n",
       "    <tr style=\"text-align: right;\">\n",
       "      <th></th>\n",
       "      <th>Uniq Adress</th>\n",
       "      <th>Price</th>\n",
       "    </tr>\n",
       "  </thead>\n",
       "  <tbody>\n",
       "    <tr>\n",
       "      <th>0</th>\n",
       "      <td>SHAFTESBURY ROAD 25 LUTON</td>\n",
       "      <td>241500</td>\n",
       "    </tr>\n",
       "    <tr>\n",
       "      <th>1</th>\n",
       "      <td>SOUTHWOOD ROAD 49 CENTRAL BEDFORDSHIRE</td>\n",
       "      <td>180000</td>\n",
       "    </tr>\n",
       "    <tr>\n",
       "      <th>2</th>\n",
       "      <td>SWAN MEAD 66 LUTON</td>\n",
       "      <td>159000</td>\n",
       "    </tr>\n",
       "    <tr>\n",
       "      <th>3</th>\n",
       "      <td>DENNIS ROAD 3 BEDFORD</td>\n",
       "      <td>205000</td>\n",
       "    </tr>\n",
       "    <tr>\n",
       "      <th>4</th>\n",
       "      <td>WINDMILL ROAD 59 CENTRAL BEDFORDSHIRE</td>\n",
       "      <td>249000</td>\n",
       "    </tr>\n",
       "  </tbody>\n",
       "</table>\n",
       "</div>"
      ],
      "text/plain": [
       "                              Uniq Adress   Price\n",
       "0               SHAFTESBURY ROAD 25 LUTON  241500\n",
       "1  SOUTHWOOD ROAD 49 CENTRAL BEDFORDSHIRE  180000\n",
       "2                      SWAN MEAD 66 LUTON  159000\n",
       "3                   DENNIS ROAD 3 BEDFORD  205000\n",
       "4   WINDMILL ROAD 59 CENTRAL BEDFORDSHIRE  249000"
      ]
     },
     "execution_count": 4,
     "metadata": {},
     "output_type": "execute_result"
    }
   ],
   "source": [
    "df = pd.read_csv('all_data.csv')\n",
    "df.head()"
   ]
  },
  {
   "cell_type": "markdown",
   "id": "6d2f749f",
   "metadata": {},
   "source": [
    "### Суммируем продажи за все время по Полному Адресу"
   ]
  },
  {
   "cell_type": "code",
   "execution_count": 5,
   "id": "af169003",
   "metadata": {},
   "outputs": [
    {
     "data": {
      "text/html": [
       "<div>\n",
       "<style scoped>\n",
       "    .dataframe tbody tr th:only-of-type {\n",
       "        vertical-align: middle;\n",
       "    }\n",
       "\n",
       "    .dataframe tbody tr th {\n",
       "        vertical-align: top;\n",
       "    }\n",
       "\n",
       "    .dataframe thead th {\n",
       "        text-align: right;\n",
       "    }\n",
       "</style>\n",
       "<table border=\"1\" class=\"dataframe\">\n",
       "  <thead>\n",
       "    <tr style=\"text-align: right;\">\n",
       "      <th></th>\n",
       "      <th>Uniq Adress</th>\n",
       "      <th>Price</th>\n",
       "    </tr>\n",
       "  </thead>\n",
       "  <tbody>\n",
       "    <tr>\n",
       "      <th>0</th>\n",
       "      <td>10TH AVENUE 2 CITY OF KINGSTON UPON HULL</td>\n",
       "      <td>22000</td>\n",
       "    </tr>\n",
       "    <tr>\n",
       "      <th>1</th>\n",
       "      <td>10TH AVENUE 37 CITY OF KINGSTON UPON HULL</td>\n",
       "      <td>35000</td>\n",
       "    </tr>\n",
       "    <tr>\n",
       "      <th>2</th>\n",
       "      <td>10TH AVENUE 4 CITY OF KINGSTON UPON HULL</td>\n",
       "      <td>39060</td>\n",
       "    </tr>\n",
       "    <tr>\n",
       "      <th>3</th>\n",
       "      <td>11TH AVENUE 12 HUMBERSIDE</td>\n",
       "      <td>18950</td>\n",
       "    </tr>\n",
       "  </tbody>\n",
       "</table>\n",
       "</div>"
      ],
      "text/plain": [
       "                                 Uniq Adress  Price\n",
       "0   10TH AVENUE 2 CITY OF KINGSTON UPON HULL  22000\n",
       "1  10TH AVENUE 37 CITY OF KINGSTON UPON HULL  35000\n",
       "2   10TH AVENUE 4 CITY OF KINGSTON UPON HULL  39060\n",
       "3                  11TH AVENUE 12 HUMBERSIDE  18950"
      ]
     },
     "execution_count": 5,
     "metadata": {},
     "output_type": "execute_result"
    }
   ],
   "source": [
    "# df1 - это новый фрейм с проссумированной \n",
    "# ценой по полному адресу недвижимости\n",
    "\n",
    "df1 = df.groupby('Uniq Adress').sum(['Price'])\n",
    "df1.reset_index(inplace=True)\n",
    "df1.head(4)"
   ]
  },
  {
   "cell_type": "markdown",
   "id": "c93225d3",
   "metadata": {},
   "source": [
    "### Объединяем таблицы по Уникальному Адресу, сохраняя цены двух таблиц"
   ]
  },
  {
   "cell_type": "code",
   "execution_count": 9,
   "id": "bac7055e",
   "metadata": {},
   "outputs": [
    {
     "data": {
      "text/html": [
       "<div>\n",
       "<style scoped>\n",
       "    .dataframe tbody tr th:only-of-type {\n",
       "        vertical-align: middle;\n",
       "    }\n",
       "\n",
       "    .dataframe tbody tr th {\n",
       "        vertical-align: top;\n",
       "    }\n",
       "\n",
       "    .dataframe thead th {\n",
       "        text-align: right;\n",
       "    }\n",
       "</style>\n",
       "<table border=\"1\" class=\"dataframe\">\n",
       "  <thead>\n",
       "    <tr style=\"text-align: right;\">\n",
       "      <th></th>\n",
       "      <th>Uniq Adress</th>\n",
       "      <th>Price_x</th>\n",
       "      <th>Price_y</th>\n",
       "    </tr>\n",
       "  </thead>\n",
       "  <tbody>\n",
       "    <tr>\n",
       "      <th>0</th>\n",
       "      <td>10TH AVENUE 2 CITY OF KINGSTON UPON HULL</td>\n",
       "      <td>22000</td>\n",
       "      <td>10000</td>\n",
       "    </tr>\n",
       "    <tr>\n",
       "      <th>1</th>\n",
       "      <td>10TH AVENUE 2 CITY OF KINGSTON UPON HULL</td>\n",
       "      <td>22000</td>\n",
       "      <td>12000</td>\n",
       "    </tr>\n",
       "    <tr>\n",
       "      <th>2</th>\n",
       "      <td>10TH AVENUE 37 CITY OF KINGSTON UPON HULL</td>\n",
       "      <td>35000</td>\n",
       "      <td>35000</td>\n",
       "    </tr>\n",
       "    <tr>\n",
       "      <th>3</th>\n",
       "      <td>10TH AVENUE 4 CITY OF KINGSTON UPON HULL</td>\n",
       "      <td>39060</td>\n",
       "      <td>39060</td>\n",
       "    </tr>\n",
       "  </tbody>\n",
       "</table>\n",
       "</div>"
      ],
      "text/plain": [
       "                                 Uniq Adress  Price_x  Price_y\n",
       "0   10TH AVENUE 2 CITY OF KINGSTON UPON HULL    22000    10000\n",
       "1   10TH AVENUE 2 CITY OF KINGSTON UPON HULL    22000    12000\n",
       "2  10TH AVENUE 37 CITY OF KINGSTON UPON HULL    35000    35000\n",
       "3   10TH AVENUE 4 CITY OF KINGSTON UPON HULL    39060    39060"
      ]
     },
     "execution_count": 9,
     "metadata": {},
     "output_type": "execute_result"
    }
   ],
   "source": [
    "resault = df1.merge(df[['Uniq Adress', 'Price']], how='outer',\n",
    "                    on='Uniq Adress')\n",
    "resault.head(4)"
   ]
  },
  {
   "cell_type": "markdown",
   "id": "71a6404d",
   "metadata": {},
   "source": [
    "### Сравниваем цены "
   ]
  },
  {
   "cell_type": "code",
   "execution_count": 10,
   "id": "33041e4a",
   "metadata": {},
   "outputs": [
    {
     "data": {
      "text/html": [
       "<div>\n",
       "<style scoped>\n",
       "    .dataframe tbody tr th:only-of-type {\n",
       "        vertical-align: middle;\n",
       "    }\n",
       "\n",
       "    .dataframe tbody tr th {\n",
       "        vertical-align: top;\n",
       "    }\n",
       "\n",
       "    .dataframe thead th {\n",
       "        text-align: right;\n",
       "    }\n",
       "</style>\n",
       "<table border=\"1\" class=\"dataframe\">\n",
       "  <thead>\n",
       "    <tr style=\"text-align: right;\">\n",
       "      <th></th>\n",
       "      <th>Uniq Adress</th>\n",
       "      <th>Price_x</th>\n",
       "      <th>Price_y</th>\n",
       "      <th>compare</th>\n",
       "    </tr>\n",
       "  </thead>\n",
       "  <tbody>\n",
       "    <tr>\n",
       "      <th>0</th>\n",
       "      <td>10TH AVENUE 2 CITY OF KINGSTON UPON HULL</td>\n",
       "      <td>22000</td>\n",
       "      <td>10000</td>\n",
       "      <td>True</td>\n",
       "    </tr>\n",
       "    <tr>\n",
       "      <th>1</th>\n",
       "      <td>10TH AVENUE 2 CITY OF KINGSTON UPON HULL</td>\n",
       "      <td>22000</td>\n",
       "      <td>12000</td>\n",
       "      <td>True</td>\n",
       "    </tr>\n",
       "    <tr>\n",
       "      <th>2</th>\n",
       "      <td>10TH AVENUE 37 CITY OF KINGSTON UPON HULL</td>\n",
       "      <td>35000</td>\n",
       "      <td>35000</td>\n",
       "      <td>False</td>\n",
       "    </tr>\n",
       "    <tr>\n",
       "      <th>3</th>\n",
       "      <td>10TH AVENUE 4 CITY OF KINGSTON UPON HULL</td>\n",
       "      <td>39060</td>\n",
       "      <td>39060</td>\n",
       "      <td>False</td>\n",
       "    </tr>\n",
       "  </tbody>\n",
       "</table>\n",
       "</div>"
      ],
      "text/plain": [
       "                                 Uniq Adress  Price_x  Price_y  compare\n",
       "0   10TH AVENUE 2 CITY OF KINGSTON UPON HULL    22000    10000     True\n",
       "1   10TH AVENUE 2 CITY OF KINGSTON UPON HULL    22000    12000     True\n",
       "2  10TH AVENUE 37 CITY OF KINGSTON UPON HULL    35000    35000    False\n",
       "3   10TH AVENUE 4 CITY OF KINGSTON UPON HULL    39060    39060    False"
      ]
     },
     "execution_count": 10,
     "metadata": {},
     "output_type": "execute_result"
    }
   ],
   "source": [
    "resault['compare'] = resault['Price_x'] != resault['Price_y']\n",
    "resault.head(4)\n"
   ]
  },
  {
   "cell_type": "markdown",
   "id": "89befbc8",
   "metadata": {},
   "source": [
    "### Оставляем только True значения (цены разные)"
   ]
  },
  {
   "cell_type": "code",
   "execution_count": 12,
   "id": "33b42445",
   "metadata": {},
   "outputs": [
    {
     "data": {
      "text/html": [
       "<div>\n",
       "<style scoped>\n",
       "    .dataframe tbody tr th:only-of-type {\n",
       "        vertical-align: middle;\n",
       "    }\n",
       "\n",
       "    .dataframe tbody tr th {\n",
       "        vertical-align: top;\n",
       "    }\n",
       "\n",
       "    .dataframe thead th {\n",
       "        text-align: right;\n",
       "    }\n",
       "</style>\n",
       "<table border=\"1\" class=\"dataframe\">\n",
       "  <thead>\n",
       "    <tr style=\"text-align: right;\">\n",
       "      <th></th>\n",
       "      <th>Uniq Adress</th>\n",
       "      <th>Price_x</th>\n",
       "      <th>Price_y</th>\n",
       "      <th>compare</th>\n",
       "    </tr>\n",
       "  </thead>\n",
       "  <tbody>\n",
       "    <tr>\n",
       "      <th>0</th>\n",
       "      <td>10TH AVENUE 2 CITY OF KINGSTON UPON HULL</td>\n",
       "      <td>22000</td>\n",
       "      <td>10000</td>\n",
       "      <td>True</td>\n",
       "    </tr>\n",
       "    <tr>\n",
       "      <th>1</th>\n",
       "      <td>10TH AVENUE 2 CITY OF KINGSTON UPON HULL</td>\n",
       "      <td>22000</td>\n",
       "      <td>12000</td>\n",
       "      <td>True</td>\n",
       "    </tr>\n",
       "    <tr>\n",
       "      <th>7</th>\n",
       "      <td>11TH AVENUE 38 CITY OF KINGSTON UPON HULL</td>\n",
       "      <td>284000</td>\n",
       "      <td>20500</td>\n",
       "      <td>True</td>\n",
       "    </tr>\n",
       "    <tr>\n",
       "      <th>8</th>\n",
       "      <td>11TH AVENUE 38 CITY OF KINGSTON UPON HULL</td>\n",
       "      <td>284000</td>\n",
       "      <td>59000</td>\n",
       "      <td>True</td>\n",
       "    </tr>\n",
       "  </tbody>\n",
       "</table>\n",
       "</div>"
      ],
      "text/plain": [
       "                                 Uniq Adress  Price_x  Price_y  compare\n",
       "0   10TH AVENUE 2 CITY OF KINGSTON UPON HULL    22000    10000     True\n",
       "1   10TH AVENUE 2 CITY OF KINGSTON UPON HULL    22000    12000     True\n",
       "7  11TH AVENUE 38 CITY OF KINGSTON UPON HULL   284000    20500     True\n",
       "8  11TH AVENUE 38 CITY OF KINGSTON UPON HULL   284000    59000     True"
      ]
     },
     "execution_count": 12,
     "metadata": {},
     "output_type": "execute_result"
    }
   ],
   "source": [
    "answer = resault.loc[resault['compare'] == True]\n",
    "answer.head(4)"
   ]
  },
  {
   "cell_type": "markdown",
   "id": "32a289d7",
   "metadata": {},
   "source": [
    "### Убираем дубликаты и Nan значения"
   ]
  },
  {
   "cell_type": "code",
   "execution_count": null,
   "id": "99b041fb",
   "metadata": {},
   "outputs": [],
   "source": [
    "a = answer.dropna(how='any')\n",
    "b = a.drop_duplicates(subset=['Uniq Adress'])"
   ]
  },
  {
   "cell_type": "markdown",
   "id": "77933a13",
   "metadata": {},
   "source": [
    "### Результат в виде таблицы "
   ]
  },
  {
   "cell_type": "code",
   "execution_count": null,
   "id": "33af5e96",
   "metadata": {},
   "outputs": [],
   "source": [
    "b['Uniq Adress'].to_csv('final.csv')"
   ]
  }
 ],
 "metadata": {
  "kernelspec": {
   "display_name": "Python 3",
   "language": "python",
   "name": "python3"
  },
  "language_info": {
   "codemirror_mode": {
    "name": "ipython",
    "version": 3
   },
   "file_extension": ".py",
   "mimetype": "text/x-python",
   "name": "python",
   "nbconvert_exporter": "python",
   "pygments_lexer": "ipython3",
   "version": "3.6.9"
  }
 },
 "nbformat": 4,
 "nbformat_minor": 5
}
